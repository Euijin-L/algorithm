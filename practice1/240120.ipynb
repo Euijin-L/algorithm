{
 "cells": [
  {
   "cell_type": "markdown",
   "metadata": {},
   "source": [
    "1) 구구단 2~9단까지 출력하기 (반복문을 1번만 사용하기)\n",
    "2) 두 변수의 값을 서로 교환하기 (새로운 변수 사용하지 않고 기존의 두 변수만 사용하기)\n",
    "   파이썬의 경우 a, b = b, a 사용금지"
   ]
  },
  {
   "cell_type": "code",
   "execution_count": 13,
   "metadata": {},
   "outputs": [
    {
     "name": "stdout",
     "output_type": "stream",
     "text": [
      "2 단 시작\n",
      "[2, 4, 6, 8, 10, 12, 14, 16, 18]\n",
      "3 단 시작\n",
      "[3, 6, 9, 12, 15, 18, 21, 24, 27]\n",
      "4 단 시작\n",
      "[4, 8, 12, 16, 20, 24, 28, 32, 36]\n",
      "5 단 시작\n",
      "[5, 10, 15, 20, 25, 30, 35, 40, 45]\n",
      "6 단 시작\n",
      "[6, 12, 18, 24, 30, 36, 42, 48, 54]\n",
      "7 단 시작\n",
      "[7, 14, 21, 28, 35, 42, 49, 56, 63]\n",
      "8 단 시작\n",
      "[8, 16, 24, 32, 40, 48, 56, 64, 72]\n",
      "9 단 시작\n",
      "[9, 18, 27, 36, 45, 54, 63, 72, 81]\n"
     ]
    }
   ],
   "source": [
    "# 1번 구구단 2~9단까지 출력하기 \n",
    "val = [2,3,4,5,6,7,8,9]\n",
    "for i in val:\n",
    "    print(i, \"단 시작\")\n",
    "    result  = list(map(lambda x : x * i ,range(1,10,1)))\n",
    "    print(result)"
   ]
  },
  {
   "cell_type": "code",
   "execution_count": 19,
   "metadata": {},
   "outputs": [
    {
     "name": "stdout",
     "output_type": "stream",
     "text": [
      "3 단 시작\n",
      "[3, 6, 9, 12, 15, 18, 21, 24, 27]\n"
     ]
    }
   ],
   "source": [
    "# 1번 구구단 2~9단까지 출력하기 \n",
    "gogodan = input(\"몇단을 출력할까요?\")\n",
    "\n",
    "for i in gogodan:\n",
    "    result = list(map(lambda x : x * int(i), range(1,10,1)))\n",
    "    print(i,\"단 시작\")\n",
    "    print(result)"
   ]
  }
 ],
 "metadata": {
  "kernelspec": {
   "display_name": "Python 3",
   "language": "python",
   "name": "python3"
  },
  "language_info": {
   "codemirror_mode": {
    "name": "ipython",
    "version": 3
   },
   "file_extension": ".py",
   "mimetype": "text/x-python",
   "name": "python",
   "nbconvert_exporter": "python",
   "pygments_lexer": "ipython3",
   "version": "3.9.13"
  }
 },
 "nbformat": 4,
 "nbformat_minor": 2
}
